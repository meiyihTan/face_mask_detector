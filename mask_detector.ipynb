{
 "cells": [
  {
   "cell_type": "code",
   "execution_count": null,
   "metadata": {},
   "outputs": [],
   "source": [
    "import os \n",
    "import numpy as np \n",
    "import matplotlib.pyplot as plt \n",
    "import torch \n",
    "from data import cfg\n",
    "from layers.functions.prior_box import PriorBox\n",
    "from utils.nms.py_cpu_nms import py_cpu_nms\n",
    "import cv2\n",
    "from models.faceboxes import FaceBoxes\n",
    "from utils.box_utils import decode\n",
    "from utils.timer import Timer\n",
    "from utils.pred_utils import get_pred, plot_result\n",
    "\n",
    "device = 'cpu'\n",
    "if torch.cuda.is_available():\n",
    "    device = 'cuda'\n",
    "\n",
    "classes = {'background': 0, 'face': 1, 'fask_mask': 2}\n",
    "\n",
    "num_classes = len(classes) # inclcude background \n",
    "resize = 1 \n",
    "\n",
    "model = FaceBoxes(phase='test', size=None, num_classes=len(classes), pretrained=False)\n",
    "cp_f = 'model_checkpoints/checkpoint_FaceBoxes.pth' \n",
    "checkpoint = torch.load(cp_f)\n",
    "model.load_state_dict(checkpoint)\n",
    "model.eval() \n",
    "print('Finished loading model...')\n",
    "model = model.to(device)\n",
    "\n",
    "# adjustable threshold \n",
    "confidence_threshold = 0.15\n",
    "nms_threshold = 0.15\n",
    "vis_thres = 0.5 \n",
    "num_classes = 3 # inclcude background \n",
    "resize = 1 "
   ]
  },
  {
   "cell_type": "code",
   "execution_count": null,
   "metadata": {},
   "outputs": [],
   "source": [
    "# test image \n",
    "image_path = 'data/FaceMask/val/9_Press_Conference_Press_Conference_9_924.jpg'\n",
    "img_raw = cv2.imread(image_path, cv2.IMREAD_COLOR)\n",
    "img = np.float32(img_raw)\n",
    "im_height, im_width, _ = img.shape\n",
    "scale = torch.Tensor([img.shape[1], img.shape[0], img.shape[1], img.shape[0]])\n",
    "img -= (104, 117, 123)\n",
    "img = img.transpose(2, 0, 1)\n",
    "img = torch.from_numpy(img).unsqueeze(0)\n",
    "img = img.to(device)\n",
    "scale = scale.to(device)\n",
    "loc, conf = model(img) \n",
    "priorbox = PriorBox(cfg, image_size=(im_height, im_width))\n",
    "priors = priorbox.forward()\n",
    "priors = priors.to(device)\n",
    "prior_data = priors.data\n",
    "# convert back to pixel \n",
    "boxes = decode(loc.data.squeeze(0), prior_data, cfg['variance'])\n",
    "boxes = boxes * scale / resize\n",
    "boxes = boxes.cpu().numpy()\n",
    "\n",
    "dets = get_pred(boxes, conf, num_classes, confidence_threshold, nms_threshold)\n",
    "\n",
    "# plot result using cv2 \n",
    "plot_result(img_raw, dets) "
   ]
  },
  {
   "cell_type": "code",
   "execution_count": null,
   "metadata": {},
   "outputs": [],
   "source": []
  }
 ],
 "metadata": {
  "kernelspec": {
   "display_name": "env1",
   "language": "python",
   "name": "env1"
  },
  "language_info": {
   "codemirror_mode": {
    "name": "ipython",
    "version": 3
   },
   "file_extension": ".py",
   "mimetype": "text/x-python",
   "name": "python",
   "nbconvert_exporter": "python",
   "pygments_lexer": "ipython3",
   "version": "3.8.5"
  }
 },
 "nbformat": 4,
 "nbformat_minor": 4
}
